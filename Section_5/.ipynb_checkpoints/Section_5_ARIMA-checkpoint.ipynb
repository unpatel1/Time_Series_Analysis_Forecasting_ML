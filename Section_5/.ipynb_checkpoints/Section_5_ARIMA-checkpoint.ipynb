{
 "cells": [
  {
   "cell_type": "markdown",
   "id": "10ce55af",
   "metadata": {},
   "source": [
    "# Time Series Analysis, Forecasting, and Machine Learning\n",
    "By Lazy Programmer on Udemy\n",
    "## Section 5: ARIMA"
   ]
  },
  {
   "cell_type": "markdown",
   "id": "de1d4b0f",
   "metadata": {},
   "source": [
    "**Lesson# 40:** ARIMA section intro."
   ]
  },
  {
   "cell_type": "markdown",
   "id": "9e5f55cb",
   "metadata": {},
   "source": [
    "* AR(p)  \n",
    "* MA(q)  \n",
    "* ARIMA(p,d,q)  \n",
    "* how to choose p, d, q  \n",
    "* ACF and PACF - helps to choose p and q  \n",
    "* Auto ARIMA  \n",
    "  -- we can also use modern computational power to select p, d, q  \n",
    "  -- Seasonality (SARIMA) and exogenous data (SARIMAX)  \n",
    "  -- what criteria does Auto ARIMA use to define the \"best\"  \n",
    "  -- AIC and BIC  \n",
    "* How does ARIMA forecast  "
   ]
  },
  {
   "cell_type": "markdown",
   "id": "c8732200",
   "metadata": {},
   "source": [
    "**Lesson 41:** Autoregressive Models - AR(p)"
   ]
  },
  {
   "cell_type": "markdown",
   "id": "ea375423",
   "metadata": {},
   "source": [
    "ARIMA vs Exponential Smoothing  \n",
    "Exponential Smoothing -- is for very specific type of data (linear trends, seasonality)  \n",
    "AR model -- linear regression  \n",
    "\n",
    "$\\widehat{y} = mx + b$  \n",
    "\n",
    "More than one input -- multiple linear regression   \n",
    "$\\widehat{y} = w_{1}x_{1} + w_{2}x_{2} + b$  \n",
    "\n",
    "AR(p)  \n",
    "-- just a linear regresison -- we use the past data points in the series to predict the next point  \n",
    "-- AR(p) -- autoregressive model of order p  \n",
    "$y_{t} = b + \\varphi_{1}y_{t-1} + \\varphi_{2}y_{t-2} + ... + \\varphi_{p}y_{t-p} + \\epsilon_{t}$"
   ]
  },
  {
   "cell_type": "markdown",
   "id": "9d5563d0",
   "metadata": {},
   "source": [
    "**Lesson 42:** Moving Average Models - MA(q)"
   ]
  },
  {
   "cell_type": "markdown",
   "id": "cc0fa497",
   "metadata": {},
   "source": [
    "**MA(q):** moving average of order 'q' (it is linear function of past error terms)  \n",
    "-- MA is not the same as 'simple moving average' or 'EWMA'  \n",
    "-- it depends on past errors, not on past data in the time series  \n",
    "-- $y_{t} = c + \\epsilon_{t} + \\theta_{1}\\epsilon_{t-1} + \\theta_{2}\\epsilon_{t-2} + ... + \\theta_{q}\\epsilon_{t-q}$  \n",
    "\n",
    "Expected value  \n",
    "-- $E(y_{t}) = E(c + \\epsilon_{t} + \\theta_{1}\\epsilon_{t-1} + \\theta_{2}\\epsilon_{t-2} + ... + \\theta_{q}\\epsilon_{t-q})$  \n",
    "-- we treat errors ($\\epsilon$) as normal (mean = 0, variance = $\\sigma^2$)  \n",
    "-- $E(y_{t}) = c$ because expected value of each of the $\\epsilon$ is zero.  \n",
    "-- Hence we can think of the bian term $c$ as the average value and each of the errors has flatuations that make $y_{t}$ go up or down around $c$."
   ]
  },
  {
   "cell_type": "markdown",
   "id": "360c30b1",
   "metadata": {},
   "source": [
    "**Lesson 43:** ARIMA"
   ]
  },
  {
   "cell_type": "markdown",
   "id": "15a07ce1",
   "metadata": {},
   "source": [
    "*ARMA(p, q)*  \n",
    "* ARMA(p, q) = AR(p) + MA(q)  "
   ]
  },
  {
   "cell_type": "markdown",
   "id": "368cd8be",
   "metadata": {},
   "source": [
    "ARIMA  \n",
    "* autoregressive integrated moving average  \n",
    "* integraded part does not have any parameters  \n",
    "\n",
    "To understand integraded, we have to understand differending  \n",
    "Differending -- we have seen:  \n",
    "* Log return  \n",
    "* Holt's linear trend model  \n",
    "\n"
   ]
  },
  {
   "cell_type": "code",
   "execution_count": null,
   "id": "fec5b026",
   "metadata": {},
   "outputs": [],
   "source": []
  },
  {
   "cell_type": "code",
   "execution_count": null,
   "id": "66945417",
   "metadata": {},
   "outputs": [],
   "source": []
  },
  {
   "cell_type": "code",
   "execution_count": null,
   "id": "34f801ed",
   "metadata": {},
   "outputs": [],
   "source": []
  },
  {
   "cell_type": "code",
   "execution_count": null,
   "id": "0a90f51b",
   "metadata": {},
   "outputs": [],
   "source": []
  },
  {
   "cell_type": "code",
   "execution_count": null,
   "id": "52823629",
   "metadata": {},
   "outputs": [],
   "source": []
  },
  {
   "cell_type": "code",
   "execution_count": null,
   "id": "9ad54f86",
   "metadata": {},
   "outputs": [],
   "source": []
  },
  {
   "cell_type": "code",
   "execution_count": null,
   "id": "0f2890a0",
   "metadata": {},
   "outputs": [],
   "source": []
  },
  {
   "cell_type": "code",
   "execution_count": null,
   "id": "99bb344d",
   "metadata": {},
   "outputs": [],
   "source": []
  },
  {
   "cell_type": "code",
   "execution_count": null,
   "id": "b81f48d8",
   "metadata": {},
   "outputs": [],
   "source": []
  },
  {
   "cell_type": "code",
   "execution_count": null,
   "id": "66a032ab",
   "metadata": {},
   "outputs": [],
   "source": []
  },
  {
   "cell_type": "code",
   "execution_count": null,
   "id": "8fb3b160",
   "metadata": {},
   "outputs": [],
   "source": []
  },
  {
   "cell_type": "code",
   "execution_count": null,
   "id": "49a5ae7b",
   "metadata": {},
   "outputs": [],
   "source": []
  },
  {
   "cell_type": "code",
   "execution_count": null,
   "id": "e2466607",
   "metadata": {},
   "outputs": [],
   "source": []
  },
  {
   "cell_type": "code",
   "execution_count": null,
   "id": "c9c4554e",
   "metadata": {},
   "outputs": [],
   "source": []
  },
  {
   "cell_type": "code",
   "execution_count": null,
   "id": "7c519a22",
   "metadata": {},
   "outputs": [],
   "source": []
  },
  {
   "cell_type": "code",
   "execution_count": null,
   "id": "60923b4b",
   "metadata": {},
   "outputs": [],
   "source": []
  }
 ],
 "metadata": {
  "kernelspec": {
   "display_name": "Python 3 (ipykernel)",
   "language": "python",
   "name": "python3"
  },
  "language_info": {
   "codemirror_mode": {
    "name": "ipython",
    "version": 3
   },
   "file_extension": ".py",
   "mimetype": "text/x-python",
   "name": "python",
   "nbconvert_exporter": "python",
   "pygments_lexer": "ipython3",
   "version": "3.8.13"
  }
 },
 "nbformat": 4,
 "nbformat_minor": 5
}
