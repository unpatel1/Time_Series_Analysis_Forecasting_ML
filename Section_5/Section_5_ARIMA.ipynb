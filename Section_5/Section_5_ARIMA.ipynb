{
 "cells": [
  {
   "cell_type": "markdown",
   "id": "17ed2c97",
   "metadata": {},
   "source": [
    "# Time Series Analysis, Forecasting, and Machine Learning\n",
    "By Lazy Programmer on Udemy\n",
    "## Section 5: ARIMA"
   ]
  },
  {
   "cell_type": "markdown",
   "id": "23684735",
   "metadata": {},
   "source": [
    "**Lesson# 40:** ARIMA section intro."
   ]
  },
  {
   "cell_type": "markdown",
   "id": "b096a520",
   "metadata": {},
   "source": [
    "* AR(p)  \n",
    "* MA(q)  \n",
    "* ARIMA(p,d,q)  \n",
    "* how to choose p, d, q  \n",
    "* ACF and PACF - helps to choose p and q  \n",
    "* Auto ARIMA  \n",
    "  -- we can also use modern computational power to select p, d, q  \n",
    "  -- Seasonality (SARIMA) and exogenous data (SARIMAX)  \n",
    "  -- what criteria does Auto ARIMA use to define the \"best\"  \n",
    "  -- AIC and BIC  \n",
    "* How does ARIMA forecast  "
   ]
  },
  {
   "cell_type": "markdown",
   "id": "4ccf8764",
   "metadata": {},
   "source": [
    "**Lesson 41:** Autoregressive Models - AR(p)"
   ]
  },
  {
   "cell_type": "markdown",
   "id": "63c295c7",
   "metadata": {},
   "source": [
    "ARIMA vs Exponential Smoothing  \n",
    "Exponential Smoothing -- is for very specific type of data (linear trends, seasonality)  \n",
    "AR model -- linear regression  \n",
    "\n",
    "$\\widehat{y} = mx + b$  \n",
    "\n",
    "More than one input -- multiple linear regression   \n",
    "$\\widehat{y} = w_{1}x_{1} + w_{2}x_{2} + b$  \n",
    "\n",
    "AR(p)  \n",
    "-- just a linear regresison -- we use the past data points in the series to predict the next point  \n",
    "-- AR(p) -- autoregressive model of order p  \n",
    "$y_{t} = b + \\varphi_{1}y_{t-1} + \\varphi_{2}y_{t-2} + ... + \\varphi_{p}y_{t-p} + \\epsilon_{t}$"
   ]
  },
  {
   "cell_type": "markdown",
   "id": "8ac7b0df",
   "metadata": {},
   "source": [
    "**Lesson 42:** Moving Average Models - MA(q)"
   ]
  },
  {
   "cell_type": "markdown",
   "id": "033d00f1",
   "metadata": {},
   "source": [
    "**MA(q):** moving average of order 'q' (it is linear function of past error terms)  \n",
    "-- MA is not the same as 'simple moving average' or 'EWMA'  \n",
    "-- it depends on past errors, not on past data in the time series  \n",
    "-- $y_{t} = c + \\epsilon_{t} + \\theta_{1}\\epsilon_{t-1} + \\theta_{2}\\epsilon_{t-2} + ... + \\theta_{q}\\epsilon_{t-q}$  \n",
    "\n",
    "Expected value  \n",
    "-- $E(y_{t}) = E(c + \\epsilon_{t} + \\theta_{1}\\epsilon_{t-1} + \\theta_{2}\\epsilon_{t-2} + ... + \\theta_{q}\\epsilon_{t-q})$  \n",
    "-- we treat errors ($\\epsilon$) as normal (mean = 0, variance = $\\sigma^2$)  \n",
    "-- $E(y_{t}) = c$ because expected value of each of the $\\epsilon$ is zero.  \n",
    "-- Hence we can think of the bian term $c$ as the average value and each of the errors has flatuations that make $y_{t}$ go up or down around $c$."
   ]
  },
  {
   "cell_type": "markdown",
   "id": "5e60a02e",
   "metadata": {},
   "source": [
    "**Lesson 43:** ARIMA"
   ]
  },
  {
   "cell_type": "markdown",
   "id": "db77e8c7",
   "metadata": {},
   "source": [
    "*ARMA(p, q)*  \n",
    "* ARMA(p, q) = AR(p) + MA(q)  "
   ]
  },
  {
   "cell_type": "markdown",
   "id": "59a6fd8e",
   "metadata": {},
   "source": [
    "ARIMA  \n",
    "* autoregressive integrated moving average  \n",
    "* integraded part does not have any parameters  \n",
    "\n",
    "To understand integraded, we have to understand differending  \n",
    "Differending -- we have seen:  \n",
    "* Log return  \n",
    "* Holt's linear trend model  \n",
    "\n",
    "Differending and Stationarity  \n",
    "* differencing will make the time series stationary  \n",
    "* we have seen this in log returns in previous lessons  \n",
    "* sometimes we need to difference twice  \n",
    "\n",
    "I(d) and ARIMA(p, d, q)  \n",
    "* An I(d) process is a process that is stationary after differencing d times  \n",
    "* we say that it is integrated to order d  \n",
    "* ARIMA(p, d, q) is just a model where we have differenced d times before applying ARMA(p, q)  \n",
    "\n",
    "Special cases  \n",
    "* ARIMA(p, 0, 0) is AR(p) / ARMA(p, 0)  \n",
    "* ARIMA(0, 0, q) is MA(q) / ARMA(0, q)  \n",
    "* ARIMA(0, d, 0) is I(d)  \n",
    "\n",
    "Random walk  \n",
    "* ARIMA(0, 1, 0) is I(1) and this is a random walk  \n",
    "* $\\Delta y_{t} = \\epsilon_{t}$\n",
    "** $\\Delta y_{t}$ -- differenced time series  \n",
    "** $\\epsilon_{t}$ -- ansence of AR and MA components  \n",
    "* $y_{t} - y_{t - 1} = \\epsilon_{t}$  \n",
    "** $y_{t} = y_{t - 1} + \\epsilon_{t}$  --> this is random walk formula discussed earlier  \n",
    "\n",
    "Log return  "
   ]
  },
  {
   "cell_type": "markdown",
   "id": "e151e4c6",
   "metadata": {},
   "source": [
    "**Lesson 44:** ARIMA in Code"
   ]
  },
  {
   "cell_type": "code",
   "execution_count": null,
   "id": "b7ae3caf",
   "metadata": {},
   "outputs": [],
   "source": []
  },
  {
   "cell_type": "code",
   "execution_count": null,
   "id": "8bdec1c2",
   "metadata": {},
   "outputs": [],
   "source": []
  },
  {
   "cell_type": "code",
   "execution_count": null,
   "id": "fa706b0e",
   "metadata": {},
   "outputs": [],
   "source": []
  },
  {
   "cell_type": "code",
   "execution_count": null,
   "id": "30a0eacd",
   "metadata": {},
   "outputs": [],
   "source": []
  },
  {
   "cell_type": "code",
   "execution_count": null,
   "id": "95df44a8",
   "metadata": {},
   "outputs": [],
   "source": []
  },
  {
   "cell_type": "code",
   "execution_count": null,
   "id": "aedc12c0",
   "metadata": {},
   "outputs": [],
   "source": []
  },
  {
   "cell_type": "code",
   "execution_count": null,
   "id": "f4db6348",
   "metadata": {},
   "outputs": [],
   "source": []
  },
  {
   "cell_type": "code",
   "execution_count": null,
   "id": "862d4db1",
   "metadata": {},
   "outputs": [],
   "source": []
  },
  {
   "cell_type": "code",
   "execution_count": null,
   "id": "4f6de9fb",
   "metadata": {},
   "outputs": [],
   "source": []
  },
  {
   "cell_type": "code",
   "execution_count": null,
   "id": "6d951a8b",
   "metadata": {},
   "outputs": [],
   "source": []
  },
  {
   "cell_type": "code",
   "execution_count": null,
   "id": "e160a096",
   "metadata": {},
   "outputs": [],
   "source": []
  },
  {
   "cell_type": "code",
   "execution_count": null,
   "id": "354454ea",
   "metadata": {},
   "outputs": [],
   "source": []
  },
  {
   "cell_type": "code",
   "execution_count": null,
   "id": "89ef8217",
   "metadata": {},
   "outputs": [],
   "source": []
  },
  {
   "cell_type": "code",
   "execution_count": null,
   "id": "871b2893",
   "metadata": {},
   "outputs": [],
   "source": []
  },
  {
   "cell_type": "code",
   "execution_count": null,
   "id": "9ba3cd5c",
   "metadata": {},
   "outputs": [],
   "source": []
  }
 ],
 "metadata": {
  "kernelspec": {
   "display_name": "Python 3 (ipykernel)",
   "language": "python",
   "name": "python3"
  },
  "language_info": {
   "codemirror_mode": {
    "name": "ipython",
    "version": 3
   },
   "file_extension": ".py",
   "mimetype": "text/x-python",
   "name": "python",
   "nbconvert_exporter": "python",
   "pygments_lexer": "ipython3",
   "version": "3.8.13"
  }
 },
 "nbformat": 4,
 "nbformat_minor": 5
}
